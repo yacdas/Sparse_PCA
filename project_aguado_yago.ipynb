{
 "cells": [
  {
   "cell_type": "markdown",
   "metadata": {},
   "source": [
    "# Non-convex inverse problems project: Sparse PCA\n",
    "##### Yago Aguado, M2 MASH"
   ]
  },
  {
   "cell_type": "code",
   "execution_count": 29,
   "metadata": {},
   "outputs": [],
   "source": [
    "#Modules\n",
    "import numpy as np\n",
    "from random import sample\n",
    "import cvxpy as cp\n"
   ]
  },
  {
   "cell_type": "markdown",
   "metadata": {},
   "source": [
    "#### Question 1:\n",
    "Let us begin by creating a function to simulate the problem we will be trying to solve (cf. question 2)."
   ]
  },
  {
   "cell_type": "code",
   "execution_count": null,
   "metadata": {},
   "outputs": [],
   "source": [
    "# Question 1: code a function generating an instance of the problem\n",
    "\n",
    "def simulation(k, m, n):\n",
    "    # Sample the lists of non-zero indices\n",
    "    l = range(n) #indices are those in python\n",
    "    s1 = sample(l, k)\n",
    "    s2 = sample(l, k)\n",
    "    \n",
    "    # Create the vectors forming x\n",
    "    u = np.zeros(n)\n",
    "    v = np.zeros(n)\n",
    "    \n",
    "    c1 = np.random.normal(0, 1, k)\n",
    "    c2 = np.random.normal(0, 1, k)\n",
    "    \n",
    "    for i in range(k):\n",
    "        u[s1[i]] = c1[i]\n",
    "        v[s2[i]] = c2[i]\n",
    "    \n",
    "    # Compute x\n",
    "    X = np.outer(u, v)\n",
    "    \n",
    "    # Generate the random matrices A_i\n",
    "    lA = []\n",
    "    ly = []\n",
    "    for i in range(m):\n",
    "        A = np.random.uniform(0, 1, (n,n))\n",
    "        y = np.vdot(A, X) #Frobenius product\n",
    "        lA.append(A)\n",
    "        ly.append(y)\n",
    "    \n",
    "    return X, s1, s2, lA, ly\n",
    "        \n",
    "    "
   ]
  },
  {
   "cell_type": "code",
   "execution_count": 31,
   "metadata": {},
   "outputs": [],
   "source": [
    "# Question 3: let us implement a solver for the convex approach\n",
    "\n",
    "def solver(lbda, lA, ly, n, m):\n",
    "    # Define the problem\n",
    "    X = cp.Variable((n, n))\n",
    "    constraints = [np.vdot(lA[i], X) == ly[i] for i in range(m)]\n",
    "    objective = cp.Minimize(cp.norm(X,\"nuc\") + lbda * cp.pnorm(X, 1))\n",
    "    problem = cp.Problem(objective,constraints)\n",
    "    \n",
    "    \n",
    "    # Solve it\n",
    "    problem.solve(solver=cp.SCS,verbose=True)\n",
    "    return X.value\n",
    "\n",
    "def error(X, s1, s2, z):\n",
    "    n = np.shape(X)[0]\n",
    "    min = np.abs(X[s1[0], s2[0]])\n",
    "    for i in s1:\n",
    "        for j in s2:\n",
    "            if np.abs(X[i, j])< min:\n",
    "                min = np.abs(X[i, j])\n",
    "    \n",
    "    err = 0\n",
    "    for i in range(n):\n",
    "        for j in range(n):\n",
    "            if i in s1 and j in s2:\n",
    "                if z[i, j] < min/10:\n",
    "                    err += 1\n",
    "            else:\n",
    "                if z[i, j] > min/10:\n",
    "                    err += 1\n",
    "    \n",
    "    return err"
   ]
  }
 ],
 "metadata": {
  "kernelspec": {
   "display_name": "base",
   "language": "python",
   "name": "python3"
  },
  "language_info": {
   "codemirror_mode": {
    "name": "ipython",
    "version": 3
   },
   "file_extension": ".py",
   "mimetype": "text/x-python",
   "name": "python",
   "nbconvert_exporter": "python",
   "pygments_lexer": "ipython3",
   "version": "3.11.8"
  }
 },
 "nbformat": 4,
 "nbformat_minor": 2
}
